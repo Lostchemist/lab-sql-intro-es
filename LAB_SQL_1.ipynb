{
 "cells": [
  {
   "cell_type": "code",
   "execution_count": 7,
   "metadata": {},
   "outputs": [
    {
     "name": "stdout",
     "output_type": "stream",
     "text": [
      "<class 'pandas.core.frame.DataFrame'>\n",
      "RangeIndex: 10 entries, 0 to 9\n",
      "Data columns (total 7 columns):\n",
      " #   Column          Non-Null Count  Dtype \n",
      "---  ------          --------------  ----- \n",
      " 0   unique_key      10 non-null     object\n",
      " 1   created_date    10 non-null     object\n",
      " 2   agency          10 non-null     object\n",
      " 3   agency_name     10 non-null     object\n",
      " 4   complaint_type  10 non-null     object\n",
      " 5   descriptor      10 non-null     object\n",
      " 6   borough         10 non-null     object\n",
      "dtypes: object(7)\n",
      "memory usage: 692.0+ bytes\n",
      "None\n",
      "Data has been saved to nyc_311_data.csv\n"
     ]
    }
   ],
   "source": [
    "# USE DATABASE LAB11;\n",
    "\n",
    "\n",
    "# SELECT * FROM NYC LIMIT 10;\n",
    "\n",
    "# SELECT COMPLAINT_TYPE, COUNT(*) AS NUM_COMPLAINTS\n",
    "# FROM NYC\n",
    "# GROUP BY COMPLAINT_TYPE\n",
    "# ORDER BY NUM_COMPLAINTS DESC\n",
    "# LIMIT 10;\n",
    "\n",
    "# SELECT BOROUGH, COUNT(*) AS TOTAL_COMPLAINTS\n",
    "# FROM NYC\n",
    "# GROUP BY BOROUGH;\n",
    "\n",
    "# SELECT COMPLAINT_TYPE, COUNT(*) AS NUM_COMPLAINTS\n",
    "# FROM NYC\n",
    "# GROUP BY COMPLAINT_TYPE\n",
    "# HAVING COUNT(*) > 30\n",
    "# ORDER BY NUM_COMPLAINTS DESC;\n",
    "\n",
    "# SELECT BOROUGH, COUNT(*) AS NUM_COMPLAINTS\n",
    "# FROM NYC\n",
    "# WHERE COMPLAINT_TYPE = 'Noise - Residential'\n",
    "# GROUP BY BOROUGH\n",
    "# ORDER BY NUM_COMPLAINTS DESC;"
   ]
  }
 ],
 "metadata": {
  "kernelspec": {
   "display_name": "base",
   "language": "python",
   "name": "python3"
  },
  "language_info": {
   "codemirror_mode": {
    "name": "ipython",
    "version": 3
   },
   "file_extension": ".py",
   "mimetype": "text/x-python",
   "name": "python",
   "nbconvert_exporter": "python",
   "pygments_lexer": "ipython3",
   "version": "3.12.2"
  }
 },
 "nbformat": 4,
 "nbformat_minor": 2
}
